{
  "nbformat": 4,
  "nbformat_minor": 0,
  "metadata": {
    "colab": {
      "provenance": [],
      "authorship_tag": "ABX9TyP6ZY/ASTc1R6oAgPnyDvi8",
      "include_colab_link": true
    },
    "kernelspec": {
      "name": "python3",
      "display_name": "Python 3"
    },
    "language_info": {
      "name": "python"
    },
    "accelerator": "GPU"
  },
  "cells": [
    {
      "cell_type": "markdown",
      "metadata": {
        "id": "view-in-github",
        "colab_type": "text"
      },
      "source": [
        "<a href=\"https://colab.research.google.com/github/ahmetmungan/DeepLearningProjects/blob/main/data_2.ipynb\" target=\"_parent\"><img src=\"https://colab.research.google.com/assets/colab-badge.svg\" alt=\"Open In Colab\"/></a>"
      ]
    },
    {
      "cell_type": "markdown",
      "source": [
        "**AHMET MUNGAN**"
      ],
      "metadata": {
        "id": "h20RfK6ACuNH"
      }
    },
    {
      "cell_type": "code",
      "source": [
        "import numpy as np\n",
        "from keras.models import Sequential\n",
        "from keras.layers import Dense, Dropout\n",
        "import pandas as pd\n",
        "import matplotlib.pyplot as plt\n",
        "from sklearn.model_selection import train_test_split\n",
        "from sklearn.metrics import confusion_matrix\n",
        "import seaborn as sns\n",
        "import matplotlib.pyplot as plt\n",
        "from sklearn.preprocessing import LabelEncoder"
      ],
      "metadata": {
        "id": "D9YhS8s7VasC"
      },
      "execution_count": null,
      "outputs": []
    },
    {
      "cell_type": "code",
      "source": [
        "from google.colab import drive\n",
        "drive.mount('/content/drive')"
      ],
      "metadata": {
        "colab": {
          "base_uri": "https://localhost:8080/"
        },
        "id": "UY0Au7izMAOv",
        "outputId": "0c5f95bf-452b-4015-93b4-1898b7f18d77"
      },
      "execution_count": null,
      "outputs": [
        {
          "output_type": "stream",
          "name": "stdout",
          "text": [
            "Drive already mounted at /content/drive; to attempt to forcibly remount, call drive.mount(\"/content/drive\", force_remount=True).\n"
          ]
        }
      ]
    },
    {
      "cell_type": "code",
      "source": [
        "import tensorflow as tf\n",
        "device_name = tf.test.gpu_device_name()\n",
        "if device_name != '/device:GPU:0':\n",
        "  raise SystemError('GPU bulunamadı')\n",
        "print(\"GPU tespit edildi: {}\".format(device_name))"
      ],
      "metadata": {
        "colab": {
          "base_uri": "https://localhost:8080/"
        },
        "id": "JD_ypuAaOaNf",
        "outputId": "dddd6f1d-aa76-40e6-dbcd-62aae624a781"
      },
      "execution_count": null,
      "outputs": [
        {
          "output_type": "stream",
          "name": "stdout",
          "text": [
            "GPU tespit edildi: /device:GPU:0\n"
          ]
        }
      ]
    },
    {
      "cell_type": "code",
      "source": [
        "data2 = pd.read_excel('/content/drive/My Drive/Colab Notebooks/data-2.xlsx') #16 tanesi input 17.si etiket\n",
        "X = data2.iloc[:,0:16]\n",
        "y = data2.iloc[:,16]\n",
        "\n",
        "#Çoklu farklı sınıf var ve modelde softmax aktivasyonu kullanılmıştır. Loss fonksiyonu olarak cross entropi kullanılmıştır.\n",
        "#for i in range(len(y)):\n",
        "#  if y[i] == \"Cammeo\":\n",
        "#    y[i] = 1\n",
        "#  elif y[i] == \"Osmancik\":\n",
        "#    y[i] = 0\n",
        "#y = np.array([np.array(val) for val in y])\n",
        "#y\n",
        "lb = LabelEncoder()\n",
        "y = lb.fit_transform(y)\n",
        "#y = np.array([np.array(val) for val in y])\n",
        "y"
      ],
      "metadata": {
        "colab": {
          "base_uri": "https://localhost:8080/"
        },
        "id": "LngFhcu5OBOO",
        "outputId": "7e51e765-d913-4a06-adb5-9e4ed114c5fe"
      },
      "execution_count": null,
      "outputs": [
        {
          "output_type": "execute_result",
          "data": {
            "text/plain": [
              "array([5, 5, 5, ..., 3, 3, 3])"
            ]
          },
          "metadata": {},
          "execution_count": 83
        }
      ]
    },
    {
      "cell_type": "code",
      "source": [
        "X_train,X_test,y_train,y_test=train_test_split(X,y,test_size=0.25, random_state=42)"
      ],
      "metadata": {
        "id": "U1BIguYF7laH"
      },
      "execution_count": null,
      "outputs": []
    },
    {
      "cell_type": "code",
      "source": [
        "unique,counts=np.unique(y_train,return_counts=True)\n",
        "unique,counts=np.unique(y_test,return_counts=True)\n",
        "print(y_train.shape)\n",
        "print(X.shape)"
      ],
      "metadata": {
        "colab": {
          "base_uri": "https://localhost:8080/"
        },
        "id": "_64ANgYX7sJU",
        "outputId": "e53161cc-a117-43aa-da5b-b6e7cfd1645e"
      },
      "execution_count": null,
      "outputs": [
        {
          "output_type": "stream",
          "name": "stdout",
          "text": [
            "(10208,)\n",
            "(13611, 16)\n"
          ]
        }
      ]
    },
    {
      "cell_type": "code",
      "source": [
        "num_labels=len(np.unique(y_train))\n",
        "y_train=tf.keras.utils.to_categorical(y_train)\n",
        "y_test=tf.keras.utils.to_categorical(y_test)"
      ],
      "metadata": {
        "id": "HoXGjfaH7sUJ"
      },
      "execution_count": null,
      "outputs": []
    },
    {
      "cell_type": "code",
      "source": [
        "X_train=np.reshape(X_train,[-1,16])\n",
        "X_test=np.reshape(X_test,[-1,16])\n",
        "X_train=X_train.astype('float32')/255\n",
        "X_test=X_test.astype('float32')/255"
      ],
      "metadata": {
        "id": "f7Cq4ocV7sW2"
      },
      "execution_count": null,
      "outputs": []
    },
    {
      "cell_type": "code",
      "source": [],
      "metadata": {
        "id": "o_YIjuBC7sZJ"
      },
      "execution_count": null,
      "outputs": []
    },
    {
      "cell_type": "code",
      "source": [
        "#Modelde 16 girişe karşın sırasıyla 32 ara katmanlar belirlenmiştir.\n",
        "\n",
        "model = Sequential()\n",
        "model.add(Dense(256, input_dim=16, activation='relu'))\n",
        "#model.add(Dropout(0.5))\n",
        "model.add(Dense(256, activation='relu'))\n",
        "model.add(Dense(num_labels, activation='softmax'))\n",
        "model.summary()"
      ],
      "metadata": {
        "colab": {
          "base_uri": "https://localhost:8080/"
        },
        "id": "9R36P8NyiHxa",
        "outputId": "a4f8d139-2ded-4fa7-c8d7-59a39e3dc7db"
      },
      "execution_count": null,
      "outputs": [
        {
          "output_type": "stream",
          "name": "stdout",
          "text": [
            "Model: \"sequential_17\"\n",
            "_________________________________________________________________\n",
            " Layer (type)                Output Shape              Param #   \n",
            "=================================================================\n",
            " dense_51 (Dense)            (None, 256)               4352      \n",
            "                                                                 \n",
            " dense_52 (Dense)            (None, 256)               65792     \n",
            "                                                                 \n",
            " dense_53 (Dense)            (None, 7)                 1799      \n",
            "                                                                 \n",
            "=================================================================\n",
            "Total params: 71,943\n",
            "Trainable params: 71,943\n",
            "Non-trainable params: 0\n",
            "_________________________________________________________________\n"
          ]
        }
      ]
    },
    {
      "cell_type": "code",
      "source": [
        "#İkili sınıflandırma olduğu için hata fonksiyonu olarak binary cross entropi kullanılmıştır. ADAM optimizasyonuna göre model.\n",
        "model.compile(loss='categorical_crossentropy', optimizer='SGD', metrics=['accuracy'])\n",
        "\n",
        "\n",
        "#model.fit(X,y,epochs=100,batch_size=10)"
      ],
      "metadata": {
        "id": "tyfsBswxw-nx"
      },
      "execution_count": null,
      "outputs": []
    },
    {
      "cell_type": "code",
      "source": [
        "history=model.fit(X_train,y_train,batch_size=128,validation_split=0.2,epochs=10)"
      ],
      "metadata": {
        "colab": {
          "base_uri": "https://localhost:8080/"
        },
        "id": "nhSW4qM-_Ck7",
        "outputId": "396c10f9-0bf8-4a2a-c911-8035538dcd35"
      },
      "execution_count": null,
      "outputs": [
        {
          "output_type": "stream",
          "name": "stdout",
          "text": [
            "Epoch 1/10\n",
            "64/64 [==============================] - 1s 5ms/step - loss: 8.8534 - accuracy: 0.2443 - val_loss: 1.9191 - val_accuracy: 0.2644\n",
            "Epoch 2/10\n",
            "64/64 [==============================] - 0s 3ms/step - loss: 1.9076 - accuracy: 0.2639 - val_loss: 1.8991 - val_accuracy: 0.2644\n",
            "Epoch 3/10\n",
            "64/64 [==============================] - 0s 3ms/step - loss: 1.8895 - accuracy: 0.2639 - val_loss: 1.8844 - val_accuracy: 0.2644\n",
            "Epoch 4/10\n",
            "64/64 [==============================] - 0s 4ms/step - loss: 1.8761 - accuracy: 0.2639 - val_loss: 1.8736 - val_accuracy: 0.2644\n",
            "Epoch 5/10\n",
            "64/64 [==============================] - 0s 3ms/step - loss: 1.8661 - accuracy: 0.2639 - val_loss: 1.8656 - val_accuracy: 0.2644\n",
            "Epoch 6/10\n",
            "64/64 [==============================] - 0s 4ms/step - loss: 1.8585 - accuracy: 0.2639 - val_loss: 1.8597 - val_accuracy: 0.2644\n",
            "Epoch 7/10\n",
            "64/64 [==============================] - 0s 4ms/step - loss: 1.8528 - accuracy: 0.2639 - val_loss: 1.8552 - val_accuracy: 0.2644\n",
            "Epoch 8/10\n",
            "64/64 [==============================] - 0s 7ms/step - loss: 1.8484 - accuracy: 0.2639 - val_loss: 1.8519 - val_accuracy: 0.2644\n",
            "Epoch 9/10\n",
            "64/64 [==============================] - 1s 10ms/step - loss: 1.8450 - accuracy: 0.2639 - val_loss: 1.8493 - val_accuracy: 0.2644\n",
            "Epoch 10/10\n",
            "64/64 [==============================] - 0s 7ms/step - loss: 1.8423 - accuracy: 0.2639 - val_loss: 1.8473 - val_accuracy: 0.2644\n"
          ]
        }
      ]
    }
  ]
}